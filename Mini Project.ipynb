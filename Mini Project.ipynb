{
 "cells": [
  {
   "cell_type": "markdown",
   "metadata": {},
   "source": [
    "### Mini Project\n",
    "#### Regex Query Tool - A tool that allows the user to enter a text string and then in a separate control enter a regex pattern. It will run the regular expression against the source text and return any matches or flag errors in the regular expression."
   ]
  },
  {
   "cell_type": "code",
   "execution_count": 1,
   "metadata": {},
   "outputs": [
    {
     "name": "stdout",
     "output_type": "stream",
     "text": [
      "Match: 007115970\n"
     ]
    }
   ],
   "source": [
    "import re\n",
    "def regex_query_tool():\n",
    "  source_text = input(\"Enter the source text: \")\n",
    "\n",
    "  regex_pattern = input(\"Enter the regular expression pattern: \")\n",
    "\n",
    "  try:\n",
    "    regex = re.compile(regex_pattern)\n",
    "  except re.error as e:\n",
    "    print(\"Error compiling regular expression:\", e)\n",
    "    return\n",
    "\n",
    "  matches = regex.finditer(source_text)\n",
    "\n",
    "  for match in matches:\n",
    "    print(\"Match:\", match.group())\n",
    "\n",
    "regex_query_tool()"
   ]
  }
 ],
 "metadata": {
  "interpreter": {
   "hash": "aee8b7b246df8f9039afb4144a1f6fd8d2ca17a180786b69acc140d282b71a49"
  },
  "kernelspec": {
   "display_name": "Python 3.11.4 64-bit",
   "language": "python",
   "name": "python3"
  },
  "language_info": {
   "codemirror_mode": {
    "name": "ipython",
    "version": 3
   },
   "file_extension": ".py",
   "mimetype": "text/x-python",
   "name": "python",
   "nbconvert_exporter": "python",
   "pygments_lexer": "ipython3",
   "version": "3.11.4"
  },
  "orig_nbformat": 4
 },
 "nbformat": 4,
 "nbformat_minor": 2
}
